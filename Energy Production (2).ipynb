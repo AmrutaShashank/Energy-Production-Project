{
 "cells": [
  {
   "cell_type": "code",
   "execution_count": 1,
   "id": "938e543c",
   "metadata": {},
   "outputs": [],
   "source": [
    "import pandas as pd\n",
    "import numpy as np\n",
    "import matplotlib.pyplot as plt\n",
    "import seaborn as sns\n",
    "import matplotlib \n",
    "\n",
    "#Model\n",
    "import statsmodels.formula.api as smf \n",
    "from sklearn.model_selection import train_test_split\n",
    "from sklearn.linear_model import LinearRegression\n",
    "from sklearn.linear_model import Ridge \n",
    "from sklearn.linear_model import Lasso\n",
    "from sklearn.tree import DecisionTreeRegressor\n",
    "from sklearn.ensemble import RandomForestRegressor\n",
    "from xgboost import XGBRegressor\n",
    "from sklearn.svm import SVR\n",
    "from sklearn.neighbors import KNeighborsRegressor"
   ]
  },
  {
   "cell_type": "code",
   "execution_count": null,
   "id": "9075c88a",
   "metadata": {},
   "outputs": [],
   "source": []
  },
  {
   "cell_type": "code",
   "execution_count": 2,
   "id": "5ecfc374",
   "metadata": {},
   "outputs": [
    {
     "name": "stderr",
     "output_type": "stream",
     "text": [
      "C:\\Users\\AMRUTA PATOLE\\anaconda3\\lib\\site-packages\\tpot\\builtins\\__init__.py:36: UserWarning: Warning: optional dependency `torch` is not available. - skipping import of NN models.\n",
      "  warnings.warn(\"Warning: optional dependency `torch` is not available. - skipping import of NN models.\")\n"
     ]
    },
    {
     "data": {
      "text/html": [
       "<div>\n",
       "<style scoped>\n",
       "    .dataframe tbody tr th:only-of-type {\n",
       "        vertical-align: middle;\n",
       "    }\n",
       "\n",
       "    .dataframe tbody tr th {\n",
       "        vertical-align: top;\n",
       "    }\n",
       "\n",
       "    .dataframe thead th {\n",
       "        text-align: right;\n",
       "    }\n",
       "</style>\n",
       "<table border=\"1\" class=\"dataframe\">\n",
       "  <thead>\n",
       "    <tr style=\"text-align: right;\">\n",
       "      <th></th>\n",
       "      <th>temperature</th>\n",
       "      <th>exhaust_vacuum</th>\n",
       "      <th>amb_pressure</th>\n",
       "      <th>r_humidity</th>\n",
       "      <th>energy_production</th>\n",
       "    </tr>\n",
       "  </thead>\n",
       "  <tbody>\n",
       "    <tr>\n",
       "      <th>0</th>\n",
       "      <td>9.59</td>\n",
       "      <td>38.56</td>\n",
       "      <td>1017.01</td>\n",
       "      <td>60.10</td>\n",
       "      <td>481.30</td>\n",
       "    </tr>\n",
       "    <tr>\n",
       "      <th>1</th>\n",
       "      <td>12.04</td>\n",
       "      <td>42.34</td>\n",
       "      <td>1019.72</td>\n",
       "      <td>94.67</td>\n",
       "      <td>465.36</td>\n",
       "    </tr>\n",
       "    <tr>\n",
       "      <th>2</th>\n",
       "      <td>13.87</td>\n",
       "      <td>45.08</td>\n",
       "      <td>1024.42</td>\n",
       "      <td>81.69</td>\n",
       "      <td>465.48</td>\n",
       "    </tr>\n",
       "    <tr>\n",
       "      <th>3</th>\n",
       "      <td>13.72</td>\n",
       "      <td>54.30</td>\n",
       "      <td>1017.89</td>\n",
       "      <td>79.08</td>\n",
       "      <td>467.05</td>\n",
       "    </tr>\n",
       "    <tr>\n",
       "      <th>4</th>\n",
       "      <td>15.14</td>\n",
       "      <td>49.64</td>\n",
       "      <td>1023.78</td>\n",
       "      <td>75.00</td>\n",
       "      <td>463.58</td>\n",
       "    </tr>\n",
       "    <tr>\n",
       "      <th>...</th>\n",
       "      <td>...</td>\n",
       "      <td>...</td>\n",
       "      <td>...</td>\n",
       "      <td>...</td>\n",
       "      <td>...</td>\n",
       "    </tr>\n",
       "    <tr>\n",
       "      <th>9563</th>\n",
       "      <td>17.10</td>\n",
       "      <td>49.69</td>\n",
       "      <td>1005.53</td>\n",
       "      <td>81.82</td>\n",
       "      <td>457.32</td>\n",
       "    </tr>\n",
       "    <tr>\n",
       "      <th>9564</th>\n",
       "      <td>24.73</td>\n",
       "      <td>65.34</td>\n",
       "      <td>1015.42</td>\n",
       "      <td>52.80</td>\n",
       "      <td>446.92</td>\n",
       "    </tr>\n",
       "    <tr>\n",
       "      <th>9565</th>\n",
       "      <td>30.44</td>\n",
       "      <td>56.24</td>\n",
       "      <td>1005.19</td>\n",
       "      <td>56.24</td>\n",
       "      <td>429.34</td>\n",
       "    </tr>\n",
       "    <tr>\n",
       "      <th>9566</th>\n",
       "      <td>23.00</td>\n",
       "      <td>66.05</td>\n",
       "      <td>1020.61</td>\n",
       "      <td>80.29</td>\n",
       "      <td>421.57</td>\n",
       "    </tr>\n",
       "    <tr>\n",
       "      <th>9567</th>\n",
       "      <td>17.75</td>\n",
       "      <td>49.25</td>\n",
       "      <td>1020.86</td>\n",
       "      <td>63.67</td>\n",
       "      <td>454.41</td>\n",
       "    </tr>\n",
       "  </tbody>\n",
       "</table>\n",
       "<p>9568 rows × 5 columns</p>\n",
       "</div>"
      ],
      "text/plain": [
       "      temperature  exhaust_vacuum  amb_pressure  r_humidity  energy_production\n",
       "0            9.59           38.56       1017.01       60.10             481.30\n",
       "1           12.04           42.34       1019.72       94.67             465.36\n",
       "2           13.87           45.08       1024.42       81.69             465.48\n",
       "3           13.72           54.30       1017.89       79.08             467.05\n",
       "4           15.14           49.64       1023.78       75.00             463.58\n",
       "...           ...             ...           ...         ...                ...\n",
       "9563        17.10           49.69       1005.53       81.82             457.32\n",
       "9564        24.73           65.34       1015.42       52.80             446.92\n",
       "9565        30.44           56.24       1005.19       56.24             429.34\n",
       "9566        23.00           66.05       1020.61       80.29             421.57\n",
       "9567        17.75           49.25       1020.86       63.67             454.41\n",
       "\n",
       "[9568 rows x 5 columns]"
      ]
     },
     "execution_count": 2,
     "metadata": {},
     "output_type": "execute_result"
    }
   ],
   "source": [
    "from tpot import TPOTRegressor\n",
    "\n",
    "from sklearn.model_selection import ShuffleSplit\n",
    "from sklearn.model_selection import cross_val_score\n",
    "from sklearn.model_selection import GridSearchCV,KFold\n",
    "\n",
    "import warnings\n",
    "warnings.filterwarnings(\"ignore\")  #--to ignore warnings\n",
    "Energy = pd.read_csv('Regrerssion_energy_production_data.csv',delimiter=';')\n",
    "Energy"
   ]
  },
  {
   "cell_type": "code",
   "execution_count": 3,
   "id": "253c6fc7",
   "metadata": {},
   "outputs": [
    {
     "data": {
      "text/html": [
       "<div>\n",
       "<style scoped>\n",
       "    .dataframe tbody tr th:only-of-type {\n",
       "        vertical-align: middle;\n",
       "    }\n",
       "\n",
       "    .dataframe tbody tr th {\n",
       "        vertical-align: top;\n",
       "    }\n",
       "\n",
       "    .dataframe thead th {\n",
       "        text-align: right;\n",
       "    }\n",
       "</style>\n",
       "<table border=\"1\" class=\"dataframe\">\n",
       "  <thead>\n",
       "    <tr style=\"text-align: right;\">\n",
       "      <th></th>\n",
       "      <th>temperature</th>\n",
       "      <th>exhaust_vacuum</th>\n",
       "      <th>amb_pressure</th>\n",
       "      <th>r_humidity</th>\n",
       "      <th>energy_production</th>\n",
       "    </tr>\n",
       "  </thead>\n",
       "  <tbody>\n",
       "    <tr>\n",
       "      <th>1</th>\n",
       "      <td>12.04</td>\n",
       "      <td>42.34</td>\n",
       "      <td>1019.72</td>\n",
       "      <td>94.67</td>\n",
       "      <td>465.36</td>\n",
       "    </tr>\n",
       "    <tr>\n",
       "      <th>2</th>\n",
       "      <td>13.87</td>\n",
       "      <td>45.08</td>\n",
       "      <td>1024.42</td>\n",
       "      <td>81.69</td>\n",
       "      <td>465.48</td>\n",
       "    </tr>\n",
       "    <tr>\n",
       "      <th>3</th>\n",
       "      <td>13.72</td>\n",
       "      <td>54.30</td>\n",
       "      <td>1017.89</td>\n",
       "      <td>79.08</td>\n",
       "      <td>467.05</td>\n",
       "    </tr>\n",
       "    <tr>\n",
       "      <th>4</th>\n",
       "      <td>15.14</td>\n",
       "      <td>49.64</td>\n",
       "      <td>1023.78</td>\n",
       "      <td>75.00</td>\n",
       "      <td>463.58</td>\n",
       "    </tr>\n",
       "    <tr>\n",
       "      <th>5</th>\n",
       "      <td>23.63</td>\n",
       "      <td>60.93</td>\n",
       "      <td>1006.41</td>\n",
       "      <td>83.06</td>\n",
       "      <td>439.90</td>\n",
       "    </tr>\n",
       "  </tbody>\n",
       "</table>\n",
       "</div>"
      ],
      "text/plain": [
       "   temperature  exhaust_vacuum  amb_pressure  r_humidity  energy_production\n",
       "1        12.04           42.34       1019.72       94.67             465.36\n",
       "2        13.87           45.08       1024.42       81.69             465.48\n",
       "3        13.72           54.30       1017.89       79.08             467.05\n",
       "4        15.14           49.64       1023.78       75.00             463.58\n",
       "5        23.63           60.93       1006.41       83.06             439.90"
      ]
     },
     "execution_count": 3,
     "metadata": {},
     "output_type": "execute_result"
    }
   ],
   "source": [
    "#Dropping first row as it contains duplicate header names\n",
    "Energy.drop([0],axis=0,inplace = True)\n",
    "Energy.head()"
   ]
  },
  {
   "cell_type": "code",
   "execution_count": 4,
   "id": "6cd7400d",
   "metadata": {},
   "outputs": [
    {
     "data": {
      "text/plain": [
       "temperature          0\n",
       "exhaust_vacuum       0\n",
       "amb_pressure         0\n",
       "r_humidity           0\n",
       "energy_production    0\n",
       "dtype: int64"
      ]
     },
     "execution_count": 4,
     "metadata": {},
     "output_type": "execute_result"
    }
   ],
   "source": [
    "#Checking For NA Values\n",
    "Energy.isnull().sum()"
   ]
  },
  {
   "cell_type": "code",
   "execution_count": 5,
   "id": "70f7191f",
   "metadata": {},
   "outputs": [
    {
     "data": {
      "text/plain": [
       "(9567, 5)"
      ]
     },
     "execution_count": 5,
     "metadata": {},
     "output_type": "execute_result"
    }
   ],
   "source": [
    "#Checking the shape of the Dataset\n",
    "Energy.shape"
   ]
  },
  {
   "cell_type": "code",
   "execution_count": 6,
   "id": "e419411e",
   "metadata": {},
   "outputs": [
    {
     "name": "stdout",
     "output_type": "stream",
     "text": [
      "<class 'pandas.core.frame.DataFrame'>\n",
      "RangeIndex: 9567 entries, 1 to 9567\n",
      "Data columns (total 5 columns):\n",
      " #   Column             Non-Null Count  Dtype  \n",
      "---  ------             --------------  -----  \n",
      " 0   temperature        9567 non-null   float64\n",
      " 1   exhaust_vacuum     9567 non-null   float64\n",
      " 2   amb_pressure       9567 non-null   float64\n",
      " 3   r_humidity         9567 non-null   float64\n",
      " 4   energy_production  9567 non-null   float64\n",
      "dtypes: float64(5)\n",
      "memory usage: 373.8 KB\n"
     ]
    }
   ],
   "source": [
    "Energy.info()"
   ]
  },
  {
   "cell_type": "code",
   "execution_count": 7,
   "id": "a4ee1807",
   "metadata": {},
   "outputs": [],
   "source": [
    "# DType Conversion\n",
    "Energy['temperature'] = pd.to_numeric(Energy['temperature'], errors='coerce')\n",
    "Energy['exhaust_vacuum'] = pd.to_numeric(Energy['exhaust_vacuum'], errors='coerce')\n",
    "Energy['amb_pressure'] = pd.to_numeric(Energy['amb_pressure'], errors='coerce')\n",
    "Energy['r_humidity'] = pd.to_numeric(Energy['r_humidity'], errors='coerce')\n",
    "Energy['energy_production'] = pd.to_numeric(Energy['energy_production'],errors='coerce')"
   ]
  },
  {
   "cell_type": "markdown",
   "id": "03ae1262",
   "metadata": {},
   "source": [
    "# Visualizations"
   ]
  },
  {
   "cell_type": "code",
   "execution_count": 8,
   "id": "74ad6409",
   "metadata": {},
   "outputs": [
    {
     "data": {
      "text/plain": [
       "Text(0.5, 1.0, 'R Humidity')"
      ]
     },
     "execution_count": 8,
     "metadata": {},
     "output_type": "execute_result"
    },
    {
     "data": {
      "image/png": "[encoded data removed]",
      "text/plain": [
       "<Figure size 1200x1500 with 4 Axes>"
      ]
     },
     "metadata": {},
     "output_type": "display_data"
    }
   ],
   "source": [
    "#Checking for outliers using boxplots\n",
    "plt.figure(figsize=(12,15))\n",
    "plt.subplot(321)\n",
    "plt.boxplot(Energy['temperature'])\n",
    "plt.title(\"Temperature\")\n",
    "\n",
    "plt.subplot(322)\n",
    "plt.boxplot(Energy['exhaust_vacuum'])\n",
    "plt.title(\"Exhaust Vacuum\")\n",
    "\n",
    "plt.subplot(323)\n",
    "plt.boxplot(Energy['amb_pressure'])\n",
    "plt.title(\"Amb Pressure\")\n",
    "\n",
    "plt.subplot(324)\n",
    "plt.boxplot(Energy['r_humidity'])\n",
    "plt.title(\"R Humidity\")"
   ]
  },
  {
   "cell_type": "code",
   "execution_count": 9,
   "id": "42bc88f9",
   "metadata": {},
   "outputs": [
    {
     "data": {
      "text/html": [
       "<div>\n",
       "<style scoped>\n",
       "    .dataframe tbody tr th:only-of-type {\n",
       "        vertical-align: middle;\n",
       "    }\n",
       "\n",
       "    .dataframe tbody tr th {\n",
       "        vertical-align: top;\n",
       "    }\n",
       "\n",
       "    .dataframe thead th {\n",
       "        text-align: right;\n",
       "    }\n",
       "</style>\n",
       "<table border=\"1\" class=\"dataframe\">\n",
       "  <thead>\n",
       "    <tr style=\"text-align: right;\">\n",
       "      <th></th>\n",
       "      <th>temperature</th>\n",
       "      <th>exhaust_vacuum</th>\n",
       "      <th>amb_pressure</th>\n",
       "      <th>r_humidity</th>\n",
       "      <th>energy_production</th>\n",
       "    </tr>\n",
       "  </thead>\n",
       "  <tbody>\n",
       "    <tr>\n",
       "      <th>count</th>\n",
       "      <td>9567.000000</td>\n",
       "      <td>9567.000000</td>\n",
       "      <td>9567.000000</td>\n",
       "      <td>9567.000000</td>\n",
       "      <td>9567.000000</td>\n",
       "    </tr>\n",
       "    <tr>\n",
       "      <th>mean</th>\n",
       "      <td>19.652283</td>\n",
       "      <td>54.307450</td>\n",
       "      <td>1013.258686</td>\n",
       "      <td>73.310359</td>\n",
       "      <td>454.362194</td>\n",
       "    </tr>\n",
       "    <tr>\n",
       "      <th>std</th>\n",
       "      <td>7.452153</td>\n",
       "      <td>12.707537</td>\n",
       "      <td>5.938970</td>\n",
       "      <td>14.600407</td>\n",
       "      <td>17.065665</td>\n",
       "    </tr>\n",
       "    <tr>\n",
       "      <th>min</th>\n",
       "      <td>1.810000</td>\n",
       "      <td>25.360000</td>\n",
       "      <td>992.890000</td>\n",
       "      <td>25.560000</td>\n",
       "      <td>420.260000</td>\n",
       "    </tr>\n",
       "    <tr>\n",
       "      <th>25%</th>\n",
       "      <td>13.510000</td>\n",
       "      <td>41.740000</td>\n",
       "      <td>1009.100000</td>\n",
       "      <td>63.335000</td>\n",
       "      <td>439.750000</td>\n",
       "    </tr>\n",
       "    <tr>\n",
       "      <th>50%</th>\n",
       "      <td>20.350000</td>\n",
       "      <td>52.080000</td>\n",
       "      <td>1012.940000</td>\n",
       "      <td>74.980000</td>\n",
       "      <td>451.520000</td>\n",
       "    </tr>\n",
       "    <tr>\n",
       "      <th>75%</th>\n",
       "      <td>25.720000</td>\n",
       "      <td>66.540000</td>\n",
       "      <td>1017.260000</td>\n",
       "      <td>84.830000</td>\n",
       "      <td>468.430000</td>\n",
       "    </tr>\n",
       "    <tr>\n",
       "      <th>max</th>\n",
       "      <td>37.110000</td>\n",
       "      <td>81.560000</td>\n",
       "      <td>1033.300000</td>\n",
       "      <td>100.160000</td>\n",
       "      <td>495.760000</td>\n",
       "    </tr>\n",
       "  </tbody>\n",
       "</table>\n",
       "</div>"
      ],
      "text/plain": [
       "       temperature  exhaust_vacuum  amb_pressure   r_humidity  \\\n",
       "count  9567.000000     9567.000000   9567.000000  9567.000000   \n",
       "mean     19.652283       54.307450   1013.258686    73.310359   \n",
       "std       7.452153       12.707537      5.938970    14.600407   \n",
       "min       1.810000       25.360000    992.890000    25.560000   \n",
       "25%      13.510000       41.740000   1009.100000    63.335000   \n",
       "50%      20.350000       52.080000   1012.940000    74.980000   \n",
       "75%      25.720000       66.540000   1017.260000    84.830000   \n",
       "max      37.110000       81.560000   1033.300000   100.160000   \n",
       "\n",
       "       energy_production  \n",
       "count        9567.000000  \n",
       "mean          454.362194  \n",
       "std            17.065665  \n",
       "min           420.260000  \n",
       "25%           439.750000  \n",
       "50%           451.520000  \n",
       "75%           468.430000  \n",
       "max           495.760000  "
      ]
     },
     "execution_count": 9,
     "metadata": {},
     "output_type": "execute_result"
    }
   ],
   "source": [
    "#Descriptive Stats\n",
    "Energy.describe()"
   ]
  },
  {
   "cell_type": "code",
   "execution_count": 10,
   "id": "c17e59ab",
   "metadata": {},
   "outputs": [
    {
     "name": "stdout",
     "output_type": "stream",
     "text": [
      "IQR for amb_pressure is:  8.159999999999968\n",
      "IQR for r_humidity is:  21.494999999999997\n"
     ]
    }
   ],
   "source": [
    "# Calculating IQR \n",
    "IQR_amb = 1017.26 - 1009.10\n",
    "IQR_r = 84.83 - 63.335\n",
    "#printing\n",
    "print(\"IQR for amb_pressure is: \",IQR_amb)\n",
    "print(\"IQR for r_humidity is: \",IQR_r)"
   ]
  },
  {
   "cell_type": "code",
   "execution_count": 11,
   "id": "ea1e8ca8",
   "metadata": {},
   "outputs": [
    {
     "name": "stdout",
     "output_type": "stream",
     "text": [
      "Lower Extreme of amb_pressure is:  996.8600000000001\n",
      "Upper Extreme of amb_pressure is:  1029.5\n"
     ]
    }
   ],
   "source": [
    "#Calculating Lower & Upper Extreme for amb_pressure\n",
    "LE_amb = 1009.10 - IQR_amb * 1.5\n",
    "UE_amb = 1017.26 + IQR_amb * 1.5\n",
    "#printing\n",
    "print(\"Lower Extreme of amb_pressure is: \",LE_amb)\n",
    "print(\"Upper Extreme of amb_pressure is: \",UE_amb)"
   ]
  },
  {
   "cell_type": "code",
   "execution_count": 12,
   "id": "303ae6c7",
   "metadata": {},
   "outputs": [
    {
     "name": "stdout",
     "output_type": "stream",
     "text": [
      "Lower Extreme of r_humidity is:  31.09250000000001\n",
      "Upper Extreme of r_humidity is:  113.8025\n"
     ]
    }
   ],
   "source": [
    "#Calculating Lower & Upper Extreme for r_humidity\n",
    "LE_r = 63.335 - IQR_r * 1.5\n",
    "UE_r = 81.56 + IQR_r * 1.5\n",
    "#printing\n",
    "print(\"Lower Extreme of r_humidity is: \",LE_r)\n",
    "print(\"Upper Extreme of r_humidity is: \",UE_r)"
   ]
  },
  {
   "cell_type": "code",
   "execution_count": 13,
   "id": "443b4553",
   "metadata": {},
   "outputs": [
    {
     "data": {
      "text/plain": [
       "(9567, 5)"
      ]
     },
     "execution_count": 13,
     "metadata": {},
     "output_type": "execute_result"
    }
   ],
   "source": [
    "#Original shape Before Outlier removal\n",
    "Energy.shape"
   ]
  },
  {
   "cell_type": "code",
   "execution_count": 14,
   "id": "9b0f1106",
   "metadata": {},
   "outputs": [
    {
     "data": {
      "text/plain": [
       "15"
      ]
     },
     "execution_count": 14,
     "metadata": {},
     "output_type": "execute_result"
    }
   ],
   "source": [
    "# Checking Total Outliers for Lower Extreme of amb_pressure\n",
    "len(Energy[Energy.amb_pressure<LE_amb])"
   ]
  },
  {
   "cell_type": "code",
   "execution_count": 15,
   "id": "0c9bb4bc",
   "metadata": {},
   "outputs": [
    {
     "data": {
      "text/plain": [
       "(9552, 5)"
      ]
     },
     "execution_count": 15,
     "metadata": {},
     "output_type": "execute_result"
    }
   ],
   "source": [
    "#Removing Outliers of amb_pressure \n",
    "Energy1 = Energy[~(Energy.amb_pressure<LE_amb)]\n",
    "Energy1.shape"
   ]
  },
  {
   "cell_type": "code",
   "execution_count": 16,
   "id": "39eddd3a",
   "metadata": {},
   "outputs": [
    {
     "data": {
      "text/plain": [
       "73"
      ]
     },
     "execution_count": 16,
     "metadata": {},
     "output_type": "execute_result"
    }
   ],
   "source": [
    "# Checking Total Outliers for Upper Extreme of amb_pressure\n",
    "len(Energy1[Energy1.amb_pressure>UE_amb])"
   ]
  },
  {
   "cell_type": "code",
   "execution_count": 17,
   "id": "8c2b363b",
   "metadata": {},
   "outputs": [
    {
     "data": {
      "text/plain": [
       "(9479, 5)"
      ]
     },
     "execution_count": 17,
     "metadata": {},
     "output_type": "execute_result"
    }
   ],
   "source": [
    "#Removing Outliers of amb_pressure \n",
    "Energy2 = Energy1[~(Energy1.amb_pressure>UE_amb)]\n",
    "Energy2.shape"
   ]
  },
  {
   "cell_type": "code",
   "execution_count": 18,
   "id": "782d0d24",
   "metadata": {},
   "outputs": [
    {
     "data": {
      "text/plain": [
       "12"
      ]
     },
     "execution_count": 18,
     "metadata": {},
     "output_type": "execute_result"
    }
   ],
   "source": [
    "# Checking Total Outliers for Lower Extreme of r_humidity\n",
    "len(Energy2[Energy2.r_humidity<LE_r])"
   ]
  },
  {
   "cell_type": "code",
   "execution_count": 19,
   "id": "581d41e8",
   "metadata": {},
   "outputs": [
    {
     "data": {
      "text/plain": [
       "(9467, 5)"
      ]
     },
     "execution_count": 19,
     "metadata": {},
     "output_type": "execute_result"
    }
   ],
   "source": [
    "#Removing Outliers of r_humidity\n",
    "Energy3 = Energy2[~(Energy2.r_humidity<LE_r)]\n",
    "Energy3.shape"
   ]
  },
  {
   "cell_type": "code",
   "execution_count": 20,
   "id": "51ee1c5b",
   "metadata": {},
   "outputs": [
    {
     "data": {
      "text/plain": [
       "Text(0.5, 1.0, 'R Humidity')"
      ]
     },
     "execution_count": 20,
     "metadata": {},
     "output_type": "execute_result"
    },
    {
     "data": {
      "image/png": "[encoded data removed]",
      "text/plain": [
       "<Figure size 1200x1500 with 2 Axes>"
      ]
     },
     "metadata": {},
     "output_type": "display_data"
    }
   ],
   "source": [
    "#BoxPlot After Outliers Removal \n",
    "plt.figure(figsize=(12,15))\n",
    "\n",
    "plt.subplot(321)\n",
    "plt.boxplot(Energy3['amb_pressure'])\n",
    "plt.title(\"Amb Pressure\")\n",
    "\n",
    "plt.subplot(322)\n",
    "plt.boxplot(Energy3['r_humidity'])\n",
    "plt.title(\"R Humidity\")"
   ]
  },
  {
   "cell_type": "code",
   "execution_count": 21,
   "id": "5a47bdce",
   "metadata": {},
   "outputs": [
    {
     "data": {
      "text/html": [
       "<div>\n",
       "<style scoped>\n",
       "    .dataframe tbody tr th:only-of-type {\n",
       "        vertical-align: middle;\n",
       "    }\n",
       "\n",
       "    .dataframe tbody tr th {\n",
       "        vertical-align: top;\n",
       "    }\n",
       "\n",
       "    .dataframe thead th {\n",
       "        text-align: right;\n",
       "    }\n",
       "</style>\n",
       "<table border=\"1\" class=\"dataframe\">\n",
       "  <thead>\n",
       "    <tr style=\"text-align: right;\">\n",
       "      <th></th>\n",
       "      <th>temperature</th>\n",
       "      <th>exhaust_vacuum</th>\n",
       "      <th>amb_pressure</th>\n",
       "      <th>r_humidity</th>\n",
       "      <th>energy_production</th>\n",
       "    </tr>\n",
       "  </thead>\n",
       "  <tbody>\n",
       "    <tr>\n",
       "      <th>count</th>\n",
       "      <td>9467.000000</td>\n",
       "      <td>9467.000000</td>\n",
       "      <td>9467.000000</td>\n",
       "      <td>9467.000000</td>\n",
       "      <td>9467.000000</td>\n",
       "    </tr>\n",
       "    <tr>\n",
       "      <th>mean</th>\n",
       "      <td>19.720953</td>\n",
       "      <td>54.415365</td>\n",
       "      <td>1013.148394</td>\n",
       "      <td>73.323479</td>\n",
       "      <td>454.206436</td>\n",
       "    </tr>\n",
       "    <tr>\n",
       "      <th>std</th>\n",
       "      <td>7.426974</td>\n",
       "      <td>12.701035</td>\n",
       "      <td>5.704787</td>\n",
       "      <td>14.551337</td>\n",
       "      <td>17.027908</td>\n",
       "    </tr>\n",
       "    <tr>\n",
       "      <th>min</th>\n",
       "      <td>1.810000</td>\n",
       "      <td>25.360000</td>\n",
       "      <td>996.870000</td>\n",
       "      <td>31.150000</td>\n",
       "      <td>420.260000</td>\n",
       "    </tr>\n",
       "    <tr>\n",
       "      <th>25%</th>\n",
       "      <td>13.580000</td>\n",
       "      <td>41.740000</td>\n",
       "      <td>1009.090000</td>\n",
       "      <td>63.300000</td>\n",
       "      <td>439.695000</td>\n",
       "    </tr>\n",
       "    <tr>\n",
       "      <th>50%</th>\n",
       "      <td>20.500000</td>\n",
       "      <td>52.720000</td>\n",
       "      <td>1012.900000</td>\n",
       "      <td>74.980000</td>\n",
       "      <td>451.210000</td>\n",
       "    </tr>\n",
       "    <tr>\n",
       "      <th>75%</th>\n",
       "      <td>25.760000</td>\n",
       "      <td>66.540000</td>\n",
       "      <td>1017.170000</td>\n",
       "      <td>84.840000</td>\n",
       "      <td>468.185000</td>\n",
       "    </tr>\n",
       "    <tr>\n",
       "      <th>max</th>\n",
       "      <td>37.110000</td>\n",
       "      <td>81.560000</td>\n",
       "      <td>1029.410000</td>\n",
       "      <td>100.160000</td>\n",
       "      <td>495.760000</td>\n",
       "    </tr>\n",
       "  </tbody>\n",
       "</table>\n",
       "</div>"
      ],
      "text/plain": [
       "       temperature  exhaust_vacuum  amb_pressure   r_humidity  \\\n",
       "count  9467.000000     9467.000000   9467.000000  9467.000000   \n",
       "mean     19.720953       54.415365   1013.148394    73.323479   \n",
       "std       7.426974       12.701035      5.704787    14.551337   \n",
       "min       1.810000       25.360000    996.870000    31.150000   \n",
       "25%      13.580000       41.740000   1009.090000    63.300000   \n",
       "50%      20.500000       52.720000   1012.900000    74.980000   \n",
       "75%      25.760000       66.540000   1017.170000    84.840000   \n",
       "max      37.110000       81.560000   1029.410000   100.160000   \n",
       "\n",
       "       energy_production  \n",
       "count        9467.000000  \n",
       "mean          454.206436  \n",
       "std            17.027908  \n",
       "min           420.260000  \n",
       "25%           439.695000  \n",
       "50%           451.210000  \n",
       "75%           468.185000  \n",
       "max           495.760000  "
      ]
     },
     "execution_count": 21,
     "metadata": {},
     "output_type": "execute_result"
    }
   ],
   "source": [
    "#Descriptive Stats \n",
    "Energy3.describe()"
   ]
  },
  {
   "cell_type": "code",
   "execution_count": 22,
   "id": "2c4add09",
   "metadata": {},
   "outputs": [
    {
     "name": "stdout",
     "output_type": "stream",
     "text": [
      "IQR for amb_pressure is:  8.079999999999927\n",
      "Lower Extreme of amb_pressure is:  996.9700000000001\n",
      "Upper Extreme of amb_pressure is:  1029.29\n"
     ]
    }
   ],
   "source": [
    "# Calculating IQR \n",
    "IQR = 1017.17 - 1009.09\n",
    "#printing\n",
    "print(\"IQR for amb_pressure is: \",IQR)\n",
    "\n",
    "#Calculating Lower & Upper Extreme for amb_pressure\n",
    "LE = 1009.09 - IQR * 1.5\n",
    "UE = 1017.17 + IQR * 1.5\n",
    "#printing\n",
    "print(\"Lower Extreme of amb_pressure is: \",LE)\n",
    "print(\"Upper Extreme of amb_pressure is: \",UE)"
   ]
  },
  {
   "cell_type": "code",
   "execution_count": 23,
   "id": "980f3d23",
   "metadata": {},
   "outputs": [
    {
     "data": {
      "text/plain": [
       "1"
      ]
     },
     "execution_count": 23,
     "metadata": {},
     "output_type": "execute_result"
    }
   ],
   "source": [
    "# Checking Total Outliers for Lower Extreme of amb_pressure\n",
    "len(Energy3[Energy3.amb_pressure<LE])"
   ]
  },
  {
   "cell_type": "code",
   "execution_count": 24,
   "id": "bff5f0d0",
   "metadata": {},
   "outputs": [
    {
     "data": {
      "text/plain": [
       "(9466, 5)"
      ]
     },
     "execution_count": 24,
     "metadata": {},
     "output_type": "execute_result"
    }
   ],
   "source": [
    "#Removing Outliers of amb_pressure \n",
    "Energy4 = Energy3[~(Energy3.amb_pressure<LE)]\n",
    "Energy4.shape"
   ]
  },
  {
   "cell_type": "code",
   "execution_count": 25,
   "id": "42159393",
   "metadata": {},
   "outputs": [
    {
     "data": {
      "text/plain": [
       "6"
      ]
     },
     "execution_count": 25,
     "metadata": {},
     "output_type": "execute_result"
    }
   ],
   "source": [
    "# Checking Total Outliers for Upper Extreme of amb_pressure\n",
    "len(Energy4[Energy4.amb_pressure>UE])"
   ]
  },
  {
   "cell_type": "code",
   "execution_count": 26,
   "id": "5be7b378",
   "metadata": {},
   "outputs": [
    {
     "data": {
      "text/plain": [
       "(9460, 5)"
      ]
     },
     "execution_count": 26,
     "metadata": {},
     "output_type": "execute_result"
    }
   ],
   "source": [
    "#Removing Outliers of amb_pressure \n",
    "Energy5 = Energy4[~(Energy4.amb_pressure>UE)]\n",
    "Energy5.shape"
   ]
  },
  {
   "cell_type": "code",
   "execution_count": 27,
   "id": "35c94617",
   "metadata": {},
   "outputs": [
    {
     "data": {
      "text/plain": [
       "Text(0.5, 1.0, 'Amb Pressure')"
      ]
     },
     "execution_count": 27,
     "metadata": {},
     "output_type": "execute_result"
    },
    {
     "data": {
      "image/png": "[encoded data removed]",
      "text/plain": [
       "<Figure size 640x480 with 1 Axes>"
      ]
     },
     "metadata": {},
     "output_type": "display_data"
    }
   ],
   "source": [
    "#BoxPlot After Outliers Removal \n",
    "plt.boxplot(Energy5['amb_pressure'])\n",
    "plt.title(\"Amb Pressure\")"
   ]
  },
  {
   "cell_type": "code",
   "execution_count": 28,
   "id": "b941b082",
   "metadata": {},
   "outputs": [
    {
     "data": {
      "text/plain": [
       "Text(0.5, 1.0, 'R Humidity')"
      ]
     },
     "execution_count": 28,
     "metadata": {},
     "output_type": "execute_result"
    },
    {
     "data": {
      "image/png": "[encoded data removed]",
      "text/plain": [
       "<Figure size 1200x1500 with 4 Axes>"
      ]
     },
     "metadata": {},
     "output_type": "display_data"
    }
   ],
   "source": [
    "#Histogram \n",
    "plt.figure(figsize=(12,15))\n",
    "plt.subplot(321)\n",
    "plt.hist(Energy5['temperature'])\n",
    "plt.title(\"Temperature\")\n",
    "\n",
    "plt.subplot(322)\n",
    "plt.hist(Energy5['exhaust_vacuum'])\n",
    "plt.title(\"Exhaust Vacuum\")\n",
    "\n",
    "plt.subplot(323)\n",
    "plt.hist(Energy5['amb_pressure'])\n",
    "plt.title(\"Amb Pressure\")\n",
    "\n",
    "plt.subplot(324)\n",
    "plt.hist(Energy5['r_humidity'])\n",
    "plt.title(\"R Humidity\")"
   ]
  },
  {
   "cell_type": "code",
   "execution_count": 29,
   "id": "268de465",
   "metadata": {},
   "outputs": [
    {
     "data": {
      "text/html": [
       "<div>\n",
       "<style scoped>\n",
       "    .dataframe tbody tr th:only-of-type {\n",
       "        vertical-align: middle;\n",
       "    }\n",
       "\n",
       "    .dataframe tbody tr th {\n",
       "        vertical-align: top;\n",
       "    }\n",
       "\n",
       "    .dataframe thead th {\n",
       "        text-align: right;\n",
       "    }\n",
       "</style>\n",
       "<table border=\"1\" class=\"dataframe\">\n",
       "  <thead>\n",
       "    <tr style=\"text-align: right;\">\n",
       "      <th></th>\n",
       "      <th>temperature</th>\n",
       "      <th>exhaust_vacuum</th>\n",
       "      <th>amb_pressure</th>\n",
       "      <th>r_humidity</th>\n",
       "      <th>energy_production</th>\n",
       "    </tr>\n",
       "  </thead>\n",
       "  <tbody>\n",
       "    <tr>\n",
       "      <th>1</th>\n",
       "      <td>12.04</td>\n",
       "      <td>42.34</td>\n",
       "      <td>1019.72</td>\n",
       "      <td>94.67</td>\n",
       "      <td>465.36</td>\n",
       "    </tr>\n",
       "    <tr>\n",
       "      <th>2</th>\n",
       "      <td>13.87</td>\n",
       "      <td>45.08</td>\n",
       "      <td>1024.42</td>\n",
       "      <td>81.69</td>\n",
       "      <td>465.48</td>\n",
       "    </tr>\n",
       "    <tr>\n",
       "      <th>3</th>\n",
       "      <td>13.72</td>\n",
       "      <td>54.30</td>\n",
       "      <td>1017.89</td>\n",
       "      <td>79.08</td>\n",
       "      <td>467.05</td>\n",
       "    </tr>\n",
       "    <tr>\n",
       "      <th>4</th>\n",
       "      <td>15.14</td>\n",
       "      <td>49.64</td>\n",
       "      <td>1023.78</td>\n",
       "      <td>75.00</td>\n",
       "      <td>463.58</td>\n",
       "    </tr>\n",
       "    <tr>\n",
       "      <th>5</th>\n",
       "      <td>23.63</td>\n",
       "      <td>60.93</td>\n",
       "      <td>1006.41</td>\n",
       "      <td>83.06</td>\n",
       "      <td>439.90</td>\n",
       "    </tr>\n",
       "  </tbody>\n",
       "</table>\n",
       "</div>"
      ],
      "text/plain": [
       "   temperature  exhaust_vacuum  amb_pressure  r_humidity  energy_production\n",
       "1        12.04           42.34       1019.72       94.67             465.36\n",
       "2        13.87           45.08       1024.42       81.69             465.48\n",
       "3        13.72           54.30       1017.89       79.08             467.05\n",
       "4        15.14           49.64       1023.78       75.00             463.58\n",
       "5        23.63           60.93       1006.41       83.06             439.90"
      ]
     },
     "execution_count": 29,
     "metadata": {},
     "output_type": "execute_result"
    }
   ],
   "source": [
    "#Final dataset after EDA\n",
    "Energy5.head()"
   ]
  },
  {
   "cell_type": "markdown",
   "id": "df81ceff",
   "metadata": {},
   "source": [
    "# Detecting Colinearity"
   ]
  },
  {
   "cell_type": "code",
   "execution_count": 30,
   "id": "59bc608b",
   "metadata": {},
   "outputs": [
    {
     "data": {
      "text/html": [
       "<div>\n",
       "<style scoped>\n",
       "    .dataframe tbody tr th:only-of-type {\n",
       "        vertical-align: middle;\n",
       "    }\n",
       "\n",
       "    .dataframe tbody tr th {\n",
       "        vertical-align: top;\n",
       "    }\n",
       "\n",
       "    .dataframe thead th {\n",
       "        text-align: right;\n",
       "    }\n",
       "</style>\n",
       "<table border=\"1\" class=\"dataframe\">\n",
       "  <thead>\n",
       "    <tr style=\"text-align: right;\">\n",
       "      <th></th>\n",
       "      <th>temperature</th>\n",
       "      <th>exhaust_vacuum</th>\n",
       "      <th>amb_pressure</th>\n",
       "      <th>r_humidity</th>\n",
       "      <th>energy_production</th>\n",
       "    </tr>\n",
       "  </thead>\n",
       "  <tbody>\n",
       "    <tr>\n",
       "      <th>temperature</th>\n",
       "      <td>1.000000</td>\n",
       "      <td>0.842700</td>\n",
       "      <td>-0.508590</td>\n",
       "      <td>-0.542383</td>\n",
       "      <td>-0.947482</td>\n",
       "    </tr>\n",
       "    <tr>\n",
       "      <th>exhaust_vacuum</th>\n",
       "      <td>0.842700</td>\n",
       "      <td>1.000000</td>\n",
       "      <td>-0.415344</td>\n",
       "      <td>-0.310376</td>\n",
       "      <td>-0.868671</td>\n",
       "    </tr>\n",
       "    <tr>\n",
       "      <th>amb_pressure</th>\n",
       "      <td>-0.508590</td>\n",
       "      <td>-0.415344</td>\n",
       "      <td>1.000000</td>\n",
       "      <td>0.105283</td>\n",
       "      <td>0.521162</td>\n",
       "    </tr>\n",
       "    <tr>\n",
       "      <th>r_humidity</th>\n",
       "      <td>-0.542383</td>\n",
       "      <td>-0.310376</td>\n",
       "      <td>0.105283</td>\n",
       "      <td>1.000000</td>\n",
       "      <td>0.388245</td>\n",
       "    </tr>\n",
       "    <tr>\n",
       "      <th>energy_production</th>\n",
       "      <td>-0.947482</td>\n",
       "      <td>-0.868671</td>\n",
       "      <td>0.521162</td>\n",
       "      <td>0.388245</td>\n",
       "      <td>1.000000</td>\n",
       "    </tr>\n",
       "  </tbody>\n",
       "</table>\n",
       "</div>"
      ],
      "text/plain": [
       "                   temperature  exhaust_vacuum  amb_pressure  r_humidity  \\\n",
       "temperature           1.000000        0.842700     -0.508590   -0.542383   \n",
       "exhaust_vacuum        0.842700        1.000000     -0.415344   -0.310376   \n",
       "amb_pressure         -0.508590       -0.415344      1.000000    0.105283   \n",
       "r_humidity           -0.542383       -0.310376      0.105283    1.000000   \n",
       "energy_production    -0.947482       -0.868671      0.521162    0.388245   \n",
       "\n",
       "                   energy_production  \n",
       "temperature                -0.947482  \n",
       "exhaust_vacuum             -0.868671  \n",
       "amb_pressure                0.521162  \n",
       "r_humidity                  0.388245  \n",
       "energy_production           1.000000  "
      ]
     },
     "execution_count": 30,
     "metadata": {},
     "output_type": "execute_result"
    }
   ],
   "source": [
    "#corr()\n",
    "Energy5.corr()"
   ]
  },
  {
   "cell_type": "raw",
   "id": "508bb549",
   "metadata": {},
   "source": [
    "Inference: As we can see \"temperature\" & \"exhaust_vaccum\" have a strong positve Correlation, So can suggest there is a multicollinearity effect present, will now Cross Check with VIF\n",
    "\n",
    "VIF(Variable inflation Factor) -- Using this method to confirm Collinearity if it is still there or not.\n",
    "Checking all Y(input) Variable one by one regressing them with Eachother\n",
    "\n",
    "Industry Standard ≤ 20 for VIF Value"
   ]
  },
  {
   "cell_type": "code",
   "execution_count": 31,
   "id": "b6887862",
   "metadata": {},
   "outputs": [
    {
     "data": {
      "text/html": [
       "<div>\n",
       "<style scoped>\n",
       "    .dataframe tbody tr th:only-of-type {\n",
       "        vertical-align: middle;\n",
       "    }\n",
       "\n",
       "    .dataframe tbody tr th {\n",
       "        vertical-align: top;\n",
       "    }\n",
       "\n",
       "    .dataframe thead th {\n",
       "        text-align: right;\n",
       "    }\n",
       "</style>\n",
       "<table border=\"1\" class=\"dataframe\">\n",
       "  <thead>\n",
       "    <tr style=\"text-align: right;\">\n",
       "      <th></th>\n",
       "      <th>Variables</th>\n",
       "      <th>VIF</th>\n",
       "    </tr>\n",
       "  </thead>\n",
       "  <tbody>\n",
       "    <tr>\n",
       "      <th>0</th>\n",
       "      <td>temperature</td>\n",
       "      <td>5.907042</td>\n",
       "    </tr>\n",
       "    <tr>\n",
       "      <th>1</th>\n",
       "      <td>exhaust_vacuum</td>\n",
       "      <td>3.906507</td>\n",
       "    </tr>\n",
       "    <tr>\n",
       "      <th>2</th>\n",
       "      <td>amb_pressure</td>\n",
       "      <td>1.447229</td>\n",
       "    </tr>\n",
       "    <tr>\n",
       "      <th>3</th>\n",
       "      <td>r_humidity</td>\n",
       "      <td>1.697335</td>\n",
       "    </tr>\n",
       "  </tbody>\n",
       "</table>\n",
       "</div>"
      ],
      "text/plain": [
       "        Variables       VIF\n",
       "0     temperature  5.907042\n",
       "1  exhaust_vacuum  3.906507\n",
       "2    amb_pressure  1.447229\n",
       "3      r_humidity  1.697335"
      ]
     },
     "execution_count": 31,
     "metadata": {},
     "output_type": "execute_result"
    }
   ],
   "source": [
    "#Checking VIF\n",
    "rsq_Tem = smf.ols('temperature~exhaust_vacuum+amb_pressure+r_humidity',data=Energy5).fit().rsquared  \n",
    "vif_Tem = 1/(1-rsq_Tem) \n",
    "\n",
    "rsq_ex = smf.ols('exhaust_vacuum~temperature+amb_pressure+r_humidity',data=Energy5).fit().rsquared  \n",
    "vif_ex = 1/(1-rsq_ex) \n",
    "\n",
    "rsq_amb = smf.ols('amb_pressure~temperature+exhaust_vacuum+r_humidity',data=Energy5).fit().rsquared  \n",
    "vif_amb = 1/(1-rsq_amb) \n",
    "\n",
    "rsq_rh = smf.ols('r_humidity~temperature+exhaust_vacuum+amb_pressure',data=Energy5).fit().rsquared  \n",
    "vif_rh = 1/(1-rsq_rh) \n",
    "\n",
    "# Storing vif values in a data frame\n",
    "d1 = {'Variables':['temperature','exhaust_vacuum','amb_pressure','r_humidity'],'VIF':[vif_Tem,vif_ex,vif_amb,vif_rh]}\n",
    "Vif_frame = pd.DataFrame(d1)  \n",
    "Vif_frame"
   ]
  },
  {
   "cell_type": "code",
   "execution_count": null,
   "id": "3ca6f3b0",
   "metadata": {},
   "outputs": [],
   "source": []
  },
  {
   "cell_type": "code",
   "execution_count": null,
   "id": "26409b12",
   "metadata": {},
   "outputs": [],
   "source": []
  },
  {
   "cell_type": "code",
   "execution_count": null,
   "id": "8f2c990d",
   "metadata": {},
   "outputs": [],
   "source": []
  }
 ],
 "metadata": {
  "kernelspec": {
   "display_name": "Python 3 (ipykernel)",
   "language": "python",
   "name": "python3"
  },
  "language_info": {
   "codemirror_mode": {
    "name": "ipython",
    "version": 3
   },
   "file_extension": ".py",
   "mimetype": "text/x-python",
   "name": "python",
   "nbconvert_exporter": "python",
   "pygments_lexer": "ipython3",
   "version": "3.9.13"
  }
 },
 "nbformat": 4,
 "nbformat_minor": 5
}
